{
 "cells": [
  {
   "cell_type": "markdown",
   "metadata": {},
   "source": [
    "# Adversarial Validation\n",
    "\n",
    "**Description**\n",
    "The objective of `Adversarial Validation` is to learn a model that predicts which rows are in the training dataset, and which are in the test set. Thi classifier model will try to predict which data rows are from the training set, and which are from the test set.\n",
    "\n",
    "If the two datasets came from the same distribution, this should be impossible. In such situation, if we attempted to train a classifier to distinguish training examples from test examples, it would perform no better than random. This would correspond to ROC AUC of 0.5. \n",
    "\n",
    "But if there are systematic differences in the feature values of your training and test datasets, then a classifier will be able to successfully learn to distinguish between them.\n",
    "\n",
    "The better a model you can learn to distinguish them, the bigger the problem you have.\n",
    "\n",
    "**Pre-requisites**\n",
    "\n",
    "- Modules: See [requirements.txt](./requirements.txt) for specific versions I used\n",
    "\n",
    "**Notes**\n",
    "\n",
    "- To get the Catboost training GUI, you might need to [install/enable ipywidgets](https://catboost.ai/docs/installation/python-installation-additional-data-visualization-packages.html)\n",
    "\n",
    "## Sources"
   ]
  },
  {
   "cell_type": "code",
   "execution_count": 1,
   "metadata": {},
   "outputs": [
    {
     "data": {
      "text/html": [
       "<style>.container { width:90% !important; }</style>"
      ],
      "text/plain": [
       "<IPython.core.display.HTML object>"
      ]
     },
     "metadata": {},
     "output_type": "display_data"
    }
   ],
   "source": [
    "# Expand the paragraph frames\n",
    "from IPython.core.display import display, HTML\n",
    "display(HTML(\"<style>.container { width:90% !important; }</style>\"))"
   ]
  },
  {
   "cell_type": "markdown",
   "metadata": {},
   "source": [
    "### 1. Data Preparation\n",
    "\n",
    "**Loading parameters & function**"
   ]
  },
  {
   "cell_type": "code",
   "execution_count": 2,
   "metadata": {},
   "outputs": [],
   "source": [
    "import os\n",
    "import pandas as pd\n",
    "\n",
    "# Loads the dataset\n",
    "data_dir = './data' # location of unzipped CSVs\n",
    "df_train = pd.read_csv( os.path.join(data_dir, 'train.csv') )\n",
    "df_test = pd.read_csv( os.path.join(data_dir, 'test.csv') )"
   ]
  },
  {
   "cell_type": "markdown",
   "metadata": {},
   "source": [
    "**Only keeping numerical columns**"
   ]
  },
  {
   "cell_type": "code",
   "execution_count": 3,
   "metadata": {},
   "outputs": [],
   "source": [
    "numeric_cols = [\n",
    "    'payRecMkr', 'payMethod', 'accHolderType', 'amount', 'txMonth', 'txDay', 'txWeekDay', 'logAmount', 'txTypeCode', 'payRecMkrCode', 'payMethodCode', 'accHolderTypeCode'\n",
    "]\n",
    "\n",
    "df_train = df_train[numeric_cols]\n",
    "df_test = df_test[numeric_cols]"
   ]
  },
  {
   "cell_type": "markdown",
   "metadata": {},
   "source": [
    "**Filling missing values**"
   ]
  },
  {
   "cell_type": "code",
   "execution_count": 4,
   "metadata": {},
   "outputs": [],
   "source": [
    "# Categoricals with \"<UNK>\"\n",
    "#df_train.loc[:,cat_cols] = df_train[cat_cols].fillna('<UNK>')\n",
    "#df_test.loc[:,cat_cols] = df_test[cat_cols].fillna('<UNK>')\n",
    "\n",
    "# Numeric with -999\n",
    "df_train = df_train.fillna(-999)\n",
    "df_test = df_test.fillna(-999)"
   ]
  },
  {
   "cell_type": "markdown",
   "metadata": {},
   "source": [
    "**Visualise dataset contents**"
   ]
  },
  {
   "cell_type": "code",
   "execution_count": 5,
   "metadata": {},
   "outputs": [
    {
     "data": {
      "text/html": [
       "<div>\n",
       "<style scoped>\n",
       "    .dataframe tbody tr th:only-of-type {\n",
       "        vertical-align: middle;\n",
       "    }\n",
       "\n",
       "    .dataframe tbody tr th {\n",
       "        vertical-align: top;\n",
       "    }\n",
       "\n",
       "    .dataframe thead th {\n",
       "        text-align: right;\n",
       "    }\n",
       "</style>\n",
       "<table border=\"1\" class=\"dataframe\">\n",
       "  <thead>\n",
       "    <tr style=\"text-align: right;\">\n",
       "      <th></th>\n",
       "      <th>payRecMkr</th>\n",
       "      <th>payMethod</th>\n",
       "      <th>accHolderType</th>\n",
       "      <th>amount</th>\n",
       "      <th>txMonth</th>\n",
       "      <th>txDay</th>\n",
       "      <th>txWeekDay</th>\n",
       "      <th>logAmount</th>\n",
       "      <th>txTypeCode</th>\n",
       "      <th>payRecMkrCode</th>\n",
       "      <th>payMethodCode</th>\n",
       "      <th>accHolderTypeCode</th>\n",
       "    </tr>\n",
       "  </thead>\n",
       "  <tbody>\n",
       "    <tr>\n",
       "      <th>0</th>\n",
       "      <td>0</td>\n",
       "      <td>0</td>\n",
       "      <td>1</td>\n",
       "      <td>14.89</td>\n",
       "      <td>11</td>\n",
       "      <td>5</td>\n",
       "      <td>3</td>\n",
       "      <td>1.172895</td>\n",
       "      <td>1</td>\n",
       "      <td>6</td>\n",
       "      <td>11</td>\n",
       "      <td>1</td>\n",
       "    </tr>\n",
       "    <tr>\n",
       "      <th>1</th>\n",
       "      <td>1</td>\n",
       "      <td>2</td>\n",
       "      <td>1</td>\n",
       "      <td>21.49</td>\n",
       "      <td>11</td>\n",
       "      <td>5</td>\n",
       "      <td>3</td>\n",
       "      <td>1.332236</td>\n",
       "      <td>1</td>\n",
       "      <td>3</td>\n",
       "      <td>12</td>\n",
       "      <td>1</td>\n",
       "    </tr>\n",
       "    <tr>\n",
       "      <th>2</th>\n",
       "      <td>1</td>\n",
       "      <td>2</td>\n",
       "      <td>1</td>\n",
       "      <td>49.25</td>\n",
       "      <td>11</td>\n",
       "      <td>5</td>\n",
       "      <td>3</td>\n",
       "      <td>1.692406</td>\n",
       "      <td>1</td>\n",
       "      <td>3</td>\n",
       "      <td>12</td>\n",
       "      <td>1</td>\n",
       "    </tr>\n",
       "    <tr>\n",
       "      <th>3</th>\n",
       "      <td>1</td>\n",
       "      <td>4</td>\n",
       "      <td>1</td>\n",
       "      <td>11.89</td>\n",
       "      <td>11</td>\n",
       "      <td>5</td>\n",
       "      <td>3</td>\n",
       "      <td>1.075182</td>\n",
       "      <td>1</td>\n",
       "      <td>3</td>\n",
       "      <td>8</td>\n",
       "      <td>1</td>\n",
       "    </tr>\n",
       "    <tr>\n",
       "      <th>4</th>\n",
       "      <td>1</td>\n",
       "      <td>4</td>\n",
       "      <td>1</td>\n",
       "      <td>5.67</td>\n",
       "      <td>11</td>\n",
       "      <td>5</td>\n",
       "      <td>3</td>\n",
       "      <td>0.753583</td>\n",
       "      <td>1</td>\n",
       "      <td>3</td>\n",
       "      <td>8</td>\n",
       "      <td>1</td>\n",
       "    </tr>\n",
       "  </tbody>\n",
       "</table>\n",
       "</div>"
      ],
      "text/plain": [
       "   payRecMkr  payMethod  accHolderType  amount  txMonth  txDay  txWeekDay  \\\n",
       "0          0          0              1   14.89       11      5          3   \n",
       "1          1          2              1   21.49       11      5          3   \n",
       "2          1          2              1   49.25       11      5          3   \n",
       "3          1          4              1   11.89       11      5          3   \n",
       "4          1          4              1    5.67       11      5          3   \n",
       "\n",
       "   logAmount  txTypeCode  payRecMkrCode  payMethodCode  accHolderTypeCode  \n",
       "0   1.172895           1              6             11                  1  \n",
       "1   1.332236           1              3             12                  1  \n",
       "2   1.692406           1              3             12                  1  \n",
       "3   1.075182           1              3              8                  1  \n",
       "4   0.753583           1              3              8                  1  "
      ]
     },
     "execution_count": 5,
     "metadata": {},
     "output_type": "execute_result"
    }
   ],
   "source": [
    "df_train.head()"
   ]
  },
  {
   "cell_type": "code",
   "execution_count": 6,
   "metadata": {},
   "outputs": [
    {
     "data": {
      "text/html": [
       "<div>\n",
       "<style scoped>\n",
       "    .dataframe tbody tr th:only-of-type {\n",
       "        vertical-align: middle;\n",
       "    }\n",
       "\n",
       "    .dataframe tbody tr th {\n",
       "        vertical-align: top;\n",
       "    }\n",
       "\n",
       "    .dataframe thead th {\n",
       "        text-align: right;\n",
       "    }\n",
       "</style>\n",
       "<table border=\"1\" class=\"dataframe\">\n",
       "  <thead>\n",
       "    <tr style=\"text-align: right;\">\n",
       "      <th></th>\n",
       "      <th>payRecMkr</th>\n",
       "      <th>payMethod</th>\n",
       "      <th>accHolderType</th>\n",
       "      <th>amount</th>\n",
       "      <th>txMonth</th>\n",
       "      <th>txDay</th>\n",
       "      <th>txWeekDay</th>\n",
       "      <th>logAmount</th>\n",
       "      <th>txTypeCode</th>\n",
       "      <th>payRecMkrCode</th>\n",
       "      <th>payMethodCode</th>\n",
       "      <th>accHolderTypeCode</th>\n",
       "    </tr>\n",
       "  </thead>\n",
       "  <tbody>\n",
       "    <tr>\n",
       "      <th>0</th>\n",
       "      <td>0</td>\n",
       "      <td>0</td>\n",
       "      <td>1</td>\n",
       "      <td>4.89</td>\n",
       "      <td>10</td>\n",
       "      <td>23</td>\n",
       "      <td>4</td>\n",
       "      <td>0.689309</td>\n",
       "      <td>0</td>\n",
       "      <td>6</td>\n",
       "      <td>11</td>\n",
       "      <td>1</td>\n",
       "    </tr>\n",
       "    <tr>\n",
       "      <th>1</th>\n",
       "      <td>1</td>\n",
       "      <td>2</td>\n",
       "      <td>1</td>\n",
       "      <td>14.98</td>\n",
       "      <td>10</td>\n",
       "      <td>23</td>\n",
       "      <td>4</td>\n",
       "      <td>1.175512</td>\n",
       "      <td>0</td>\n",
       "      <td>3</td>\n",
       "      <td>12</td>\n",
       "      <td>1</td>\n",
       "    </tr>\n",
       "    <tr>\n",
       "      <th>2</th>\n",
       "      <td>1</td>\n",
       "      <td>3</td>\n",
       "      <td>1</td>\n",
       "      <td>3.89</td>\n",
       "      <td>10</td>\n",
       "      <td>23</td>\n",
       "      <td>4</td>\n",
       "      <td>0.589950</td>\n",
       "      <td>0</td>\n",
       "      <td>3</td>\n",
       "      <td>4</td>\n",
       "      <td>1</td>\n",
       "    </tr>\n",
       "    <tr>\n",
       "      <th>3</th>\n",
       "      <td>0</td>\n",
       "      <td>0</td>\n",
       "      <td>1</td>\n",
       "      <td>9.40</td>\n",
       "      <td>10</td>\n",
       "      <td>23</td>\n",
       "      <td>4</td>\n",
       "      <td>0.973128</td>\n",
       "      <td>0</td>\n",
       "      <td>6</td>\n",
       "      <td>11</td>\n",
       "      <td>1</td>\n",
       "    </tr>\n",
       "    <tr>\n",
       "      <th>4</th>\n",
       "      <td>0</td>\n",
       "      <td>0</td>\n",
       "      <td>1</td>\n",
       "      <td>4.89</td>\n",
       "      <td>10</td>\n",
       "      <td>23</td>\n",
       "      <td>4</td>\n",
       "      <td>0.689309</td>\n",
       "      <td>0</td>\n",
       "      <td>6</td>\n",
       "      <td>11</td>\n",
       "      <td>1</td>\n",
       "    </tr>\n",
       "  </tbody>\n",
       "</table>\n",
       "</div>"
      ],
      "text/plain": [
       "   payRecMkr  payMethod  accHolderType  amount  txMonth  txDay  txWeekDay  \\\n",
       "0          0          0              1    4.89       10     23          4   \n",
       "1          1          2              1   14.98       10     23          4   \n",
       "2          1          3              1    3.89       10     23          4   \n",
       "3          0          0              1    9.40       10     23          4   \n",
       "4          0          0              1    4.89       10     23          4   \n",
       "\n",
       "   logAmount  txTypeCode  payRecMkrCode  payMethodCode  accHolderTypeCode  \n",
       "0   0.689309           0              6             11                  1  \n",
       "1   1.175512           0              3             12                  1  \n",
       "2   0.589950           0              3              4                  1  \n",
       "3   0.973128           0              6             11                  1  \n",
       "4   0.689309           0              6             11                  1  "
      ]
     },
     "execution_count": 6,
     "metadata": {},
     "output_type": "execute_result"
    }
   ],
   "source": [
    "df_test.head()"
   ]
  },
  {
   "cell_type": "markdown",
   "metadata": {},
   "source": [
    "**Create adversarial label**\n",
    "\n",
    "Indicates whether sample is from test set or not"
   ]
  },
  {
   "cell_type": "code",
   "execution_count": 7,
   "metadata": {},
   "outputs": [],
   "source": [
    "df_train['is_test'] = 0\n",
    "df_test['is_test'] = 1\n",
    "\n",
    "orig_df_train = df_train.copy()\n",
    "\n",
    "frames = [orig_df_train, df_test]\n",
    "df_train = pd.concat(frames)\n",
    "\n",
    "df_train['target'] = df_train.is_test\n",
    "df_train.drop( 'is_test', axis = 1, inplace = True )"
   ]
  },
  {
   "cell_type": "markdown",
   "metadata": {},
   "source": [
    "**Cross-validating logistic regression**"
   ]
  },
  {
   "cell_type": "code",
   "execution_count": 14,
   "metadata": {},
   "outputs": [
    {
     "name": "stderr",
     "output_type": "stream",
     "text": [
      "[Parallel(n_jobs=1)]: Using backend SequentialBackend with 1 concurrent workers.\n",
      "[Parallel(n_jobs=1)]: Done   5 out of   5 | elapsed:   19.5s finished\n"
     ]
    },
    {
     "data": {
      "text/plain": [
       "['estimator', 'fit_time', 'score_time', 'test_accuracy', 'test_roc_auc']"
      ]
     },
     "execution_count": 14,
     "metadata": {},
     "output_type": "execute_result"
    }
   ],
   "source": [
    "import warnings\n",
    "\n",
    "from sklearn.model_selection import cross_validate as CV\n",
    "from sklearn.linear_model import LogisticRegression as LR\n",
    "\n",
    "warnings.filterwarnings(\"ignore\")\n",
    "\n",
    "clf = LR()\n",
    "\n",
    "scores = CV( clf, df_train.drop( 'target', axis = 1 ), df_train.target, scoring = ('accuracy', 'roc_auc'), cv = 5, verbose = 1, return_estimator = True )\n",
    "sorted(scores.keys())\n",
    "#print(\"mean AUC: {:.2%}, std: {:.2%} \\n\".format( scores.mean(), scores.std()))"
   ]
  },
  {
   "cell_type": "code",
   "execution_count": 13,
   "metadata": {},
   "outputs": [
    {
     "name": "stdout",
     "output_type": "stream",
     "text": [
      "[0.39999961 0.72435821 0.64084227 0.24910181 0.16254692]\n",
      "{'fit_time': array([2.89634967, 2.94893408, 2.95575595, 2.78712869, 3.29665637]), 'score_time': array([0.0369997 , 0.03200197, 0.02799845, 0.02899885, 0.03600264]), 'estimator': (LogisticRegression(), LogisticRegression(), LogisticRegression(), LogisticRegression(), LogisticRegression()), 'test_score': array([0.39999961, 0.72435821, 0.64084227, 0.24910181, 0.16254692])}\n"
     ]
    }
   ],
   "source": [
    "print( scores['test_score'] )\n",
    "print( scores )"
   ]
  },
  {
   "cell_type": "code",
   "execution_count": 9,
   "metadata": {},
   "outputs": [],
   "source": [
    "from sklearn.ensemble import RandomForestClassifier as RF\n",
    "from sklearn.metrics import roc_auc_score as AUC\n",
    "from sklearn.metrics import accuracy_score as accuracy\n"
   ]
  }
 ],
 "metadata": {
  "kernelspec": {
   "display_name": "Python 3",
   "language": "python",
   "name": "python3"
  },
  "language_info": {
   "codemirror_mode": {
    "name": "ipython",
    "version": 3
   },
   "file_extension": ".py",
   "mimetype": "text/x-python",
   "name": "python",
   "nbconvert_exporter": "python",
   "pygments_lexer": "ipython3",
   "version": "3.8.5"
  },
  "toc": {
   "base_numbering": 1,
   "nav_menu": {},
   "number_sections": true,
   "sideBar": true,
   "skip_h1_title": false,
   "title_cell": "Table of Contents",
   "title_sidebar": "Contents",
   "toc_cell": false,
   "toc_position": {},
   "toc_section_display": true,
   "toc_window_display": false
  }
 },
 "nbformat": 4,
 "nbformat_minor": 2
}
