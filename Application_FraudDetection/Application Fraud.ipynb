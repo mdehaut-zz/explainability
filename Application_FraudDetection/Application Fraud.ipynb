{
 "cells": [
  {
   "cell_type": "markdown",
   "metadata": {},
   "source": [
    "# Application Fraud"
   ]
  },
  {
   "cell_type": "code",
   "execution_count": null,
   "metadata": {
    "slideshow": {
     "slide_type": "slide"
    }
   },
   "outputs": [],
   "source": [
    "# import datetime\n",
    "import pandas as pd\n",
    "import numpy as np\n",
    "import warnings\n",
    "from sklearn.preprocessing import LabelEncoder\n",
    "\n",
    "warnings.filterwarnings('ignore')\n",
    "\n",
    "# Loading dataset\n",
    "dfRawFile = pd.read_csv('datagen.csv', sep=',', error_bad_lines=False)"
   ]
  },
  {
   "cell_type": "code",
   "execution_count": null,
   "metadata": {
    "slideshow": {
     "slide_type": "subslide"
    }
   },
   "outputs": [],
   "source": [
    "import matplotlib.pyplot as plt\n",
    "import matplotlib.gridspec as gridspec\n",
    "import seaborn as sns\n",
    "\n",
    "dfRawFile['label'] = dfRawFile['app_status'].map({'valid': 0, 'invalid': 1})\n",
    "#dfRawFile['browserType'] = dfRawFile['browser'].map({0: 'edge', 1: 'chrome', 2: 'safari', 3: 'firefox', 4: 'opera', 5: 'vivaldi' })\n",
    "\n",
    "dfRawFile.drop(['app_id', 'app_status', 'score'], axis=1, inplace=True)\n",
    "#sns.FacetGrid(dfRawFile, hue=\"Status\", size=8,).map(sns.kdeplot, \"IPAddress\",shade=True).add_legend()"
   ]
  },
  {
   "cell_type": "code",
   "execution_count": null,
   "metadata": {
    "slideshow": {
     "slide_type": "slide"
    }
   },
   "outputs": [],
   "source": [
    "dfEnriched = dfRawFile.copy()\n",
    "dfEnriched.sample(10)"
   ]
  },
  {
   "cell_type": "code",
   "execution_count": null,
   "metadata": {},
   "outputs": [],
   "source": [
    "from seaborn import axes_style\n",
    "sns.set(font_scale=1.2)\n",
    "with axes_style({'axes.facecolor': 'lightsteelblue', 'grid.color': 'white'}):\n",
    "    sns.countplot(data=dfEnriched, x='label')\n",
    "    #add percentage"
   ]
  },
  {
   "cell_type": "code",
   "execution_count": null,
   "metadata": {
    "slideshow": {
     "slide_type": "slide"
    }
   },
   "outputs": [],
   "source": [
    "from seaborn import axes_style\n",
    "sns.set(font_scale=1.2)\n",
    "with axes_style({'axes.facecolor': 'lightsteelblue', 'grid.color': 'white'}):\n",
    "    plt.figure()\n",
    "    sns.set_context({\"figure.figsize\": (15, 7)})\n",
    "    xDayLabels = ['Mon','Tue','Wed','Thu','Fri','Sat','Sun']\n",
    "    g = sns.boxplot(data=dfEnriched.loc[dfEnriched.label == 1,:], x = 'weekDay', y = 'timeSubmitSec')\n",
    "    g.set_xticklabels(xDayLabels, rotation=30)\n",
    "    plt.title(\"Distribution of Invalid Transaction by WeekDays\", fontsize=20)\n"
   ]
  },
  {
   "cell_type": "code",
   "execution_count": null,
   "metadata": {
    "slideshow": {
     "slide_type": "slide"
    }
   },
   "outputs": [],
   "source": [
    "from seaborn import axes_style\n",
    "sns.set(font_scale=1.2)\n",
    "with axes_style({'axes.facecolor': 'lightsteelblue', 'grid.color': 'white'}):\n",
    "    sns.set_context({\"figure.figsize\": (15, 7)})\n",
    "    xDayLabels = ['Thu','Fri','Sat','Sun','Mon','Tue','Wen']\n",
    "    g = sns.boxplot(data = dfEnriched, x = 'dayWeek', y = 'score', hue = 'Status')\n",
    "    g.set_xticklabels(xDayLabels, rotation=30)\n",
    "    plt.title(\"Distribution of Transaction Score by WeekDays\", fontsize=20)"
   ]
  },
  {
   "cell_type": "code",
   "execution_count": null,
   "metadata": {
    "scrolled": false,
    "slideshow": {
     "slide_type": "slide"
    }
   },
   "outputs": [],
   "source": [
    "import matplotlib.pyplot as plt\n",
    "import seaborn as sns\n",
    "from seaborn import axes_style\n",
    "features = dfEnriched.columns[0:8]\n",
    "sns.set(font_scale=1.2)\n",
    "with axes_style({'axes.facecolor': 'lightsteelblue', 'grid.color': 'white'}):\n",
    "    \n",
    "    for i, col in enumerate(dfEnriched[features]):     \n",
    "        colours = sns.color_palette(\"Spectral\", 3)\n",
    "        #fig= fig.figure(figsize=(15, 10))\n",
    "\n",
    "        sns.catplot(data=dfEnriched, x=col ,kind=\"count\",hue = \"Status\",palette=colours, height=8,aspect =2)   \n",
    "\n",
    "        plt.xlabel(col)\n",
    "        plt.title('Transaction Count by: ' + str(col),fontsize=20)\n",
    "   \n",
    "    "
   ]
  },
  {
   "cell_type": "code",
   "execution_count": null,
   "metadata": {
    "slideshow": {
     "slide_type": "slide"
    }
   },
   "outputs": [],
   "source": [
    "from seaborn import axes_style\n",
    "sns.set(font_scale=1.2)\n",
    "with axes_style({'axes.facecolor': 'lightsteelblue', 'grid.color': 'white'}):\n",
    "    #colours = sns.color_palette(\"Spectral\", dfRawFile['IsCustomer'].nunique())\n",
    "    fig, ax = plt.subplots(figsize=(15,7))\n",
    "    ax = sns.countplot(x='dayWeek', data=dfEnriched.loc[dfEnriched.Status == 'Suspicious',:], ax=ax)\n",
    "    ax.set_xticklabels(dfRawFile['dayWeek'].unique(), rotation=30)\n",
    "    ax.set_xticklabels(['Thu','Fri','Sat','Sun','Mon','Tue','Wen'], rotation=30)\n",
    "    #ax.annotate('{:,}'.format(p.get_height()), (p.get_x()+0.15, p.get_height()+1))\n",
    "    del fig, ax"
   ]
  },
  {
   "cell_type": "code",
   "execution_count": null,
   "metadata": {
    "slideshow": {
     "slide_type": "skip"
    }
   },
   "outputs": [],
   "source": []
  }
 ],
 "metadata": {
  "kernelspec": {
   "display_name": "Python 3",
   "language": "python",
   "name": "python3"
  },
  "language_info": {
   "codemirror_mode": {
    "name": "ipython",
    "version": 3
   },
   "file_extension": ".py",
   "mimetype": "text/x-python",
   "name": "python",
   "nbconvert_exporter": "python",
   "pygments_lexer": "ipython3",
   "version": "3.8.5"
  }
 },
 "nbformat": 4,
 "nbformat_minor": 4
}
