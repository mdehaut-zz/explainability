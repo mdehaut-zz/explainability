{
 "cells": [
  {
   "cell_type": "markdown",
   "metadata": {},
   "source": [
    "# Imports"
   ]
  },
  {
   "cell_type": "code",
   "execution_count": 1,
   "metadata": {},
   "outputs": [],
   "source": [
    "import math\n",
    "import numpy as np\n",
    "import pandas as pd"
   ]
  },
  {
   "cell_type": "markdown",
   "metadata": {},
   "source": [
    "# Configuration"
   ]
  },
  {
   "cell_type": "code",
   "execution_count": 2,
   "metadata": {},
   "outputs": [
    {
     "name": "stdout",
     "output_type": "stream",
     "text": [
      "Nbr of valid records:  8000\n",
      "Nbr of invalid records:  2000\n"
     ]
    }
   ],
   "source": [
    "### PARAMETERS ###\n",
    "nbr_records = 10000\n",
    "split_perc = 0.8\n",
    "\n",
    "## Pre-requisites ##\n",
    "nbr_valid_records = math.floor(nbr_records * split_perc)\n",
    "nbr_invalid_records = nbr_records - nbr_valid_records\n",
    "\n",
    "print( 'Nbr of valid records: ', nbr_valid_records)\n",
    "print( 'Nbr of invalid records: ', nbr_invalid_records)\n",
    "\n",
    "df = pd.DataFrame({'app_id': np.arange(0, nbr_records), 'app_status': 'valid'})\n",
    "\n",
    "pd.options.mode.chained_assignment = None # Avoid warning\n",
    "df['app_status'][nbr_valid_records:nbr_records] = 'invalid'\n"
   ]
  },
  {
   "cell_type": "markdown",
   "metadata": {},
   "source": [
    "# Record Structure Definition\n",
    "## 1. IpRange: Distance Server - Client\n"
   ]
  },
  {
   "cell_type": "code",
   "execution_count": 3,
   "metadata": {},
   "outputs": [],
   "source": [
    "## Valid ##\n",
    "ipAddressValid = np.random.poisson(4, nbr_valid_records)\n",
    "ipAddress_coeff = 40000/ ( max(ipAddressValid) - min(ipAddressValid) )\n",
    "ipAddressValid = np.floor(ipAddressValid * ipAddress_coeff)\n",
    "ipAddressValid = pd.Series(ipAddressValid)\n",
    "#ipAddressValid.plot.hist()\n",
    "#print( ipAddressValid.describe() )\n",
    "\n",
    "## Invalid ##\n",
    "ipAddressInvalid = np.random.poisson(3, nbr_invalid_records)\n",
    "ipAddress_coeff = 20000/ ( max(ipAddressInvalid) - min(ipAddressInvalid) )\n",
    "ipAddressInvalid = 10000 + np.floor(ipAddressInvalid * ipAddress_coeff)\n",
    "ipAddressInvalid = pd.Series(ipAddressInvalid)\n",
    "#ipAddressInvalid.plot.hist()\n",
    "#print( ipAddressInvalid.describe() )\n",
    "\n",
    "ipAddress_column = ipAddressValid.append(ipAddressInvalid, ignore_index = True)\n",
    "df = df.assign(ipAddress=ipAddress_column)\n",
    "\n",
    "del ipAddressValid, ipAddressInvalid, ipAddress_coeff, ipAddress_column\n",
    "\n",
    "#plt = df['ipAddress'].plot.hist()\n",
    "#del plt"
   ]
  },
  {
   "cell_type": "markdown",
   "metadata": {},
   "source": [
    "## 1.2. IpHop"
   ]
  },
  {
   "cell_type": "code",
   "execution_count": 5,
   "metadata": {},
   "outputs": [],
   "source": [
    "## Valid ##\n",
    "ipHopValid = np.random.poisson(1, nbr_valid_records)\n",
    "ipHop_coeff = 3 / ( max(ipHopValid) - min(ipHopValid) )\n",
    "ipHopValid = np.floor(ipHopValid * ipHop_coeff)\n",
    "ipHopValid = pd.Series(ipHopValid)\n",
    "#ipHopValid.plot.hist()\n",
    "#print( ipHopValid.describe() )\n",
    "\n",
    "## Invalid ##\n",
    "ipHopInvalid = np.random.poisson(3, nbr_invalid_records)\n",
    "ipHop_coeff = 4 / ( max(ipHopInvalid) - min(ipHopInvalid) )\n",
    "ipHopInvalid = np.floor(ipHopInvalid * ipHop_coeff) + 1\n",
    "ipHopInvalid = pd.Series(ipHopInvalid)\n",
    "#ipHopInvalid.plot.hist()\n",
    "#print( ipHopInvalid.describe() )\n",
    "\n",
    "ipHop_column = ipHopValid.append(ipHopInvalid, ignore_index = True)\n",
    "df = df.assign(ipHop=ipHop_column)\n",
    "\n",
    "del ipHopValid, ipHopInvalid, ipHop_coeff, ipHop_column\n",
    "\n",
    "#plt = df['ipHop'].plot.hist()\n",
    "#del plt"
   ]
  },
  {
   "cell_type": "markdown",
   "metadata": {},
   "source": [
    "## 1.3. Time Submit Sec"
   ]
  },
  {
   "cell_type": "code",
   "execution_count": 6,
   "metadata": {
    "scrolled": true
   },
   "outputs": [],
   "source": [
    "## Valid ##\n",
    "timeSubmitSecValid = np.floor( np.random.normal(loc=20, scale=2, size=nbr_valid_records) )\n",
    "timeSubmitSecValid = pd.Series(timeSubmitSecValid)\n",
    "#timeSubmitSecValid.plot.hist()\n",
    "#print( timeSubmitSecValid.describe() )\n",
    "\n",
    "## Invalid ##\n",
    "timeSubmitSecInvalid = np.floor( np.random.normal(loc=4, scale=2, size=nbr_invalid_records) )\n",
    "timeSubmitSecInvalid = pd.Series(timeSubmitSecInvalid)\n",
    "#timeSubmitSec.plot.hist()\n",
    "#print( timeSubmitSec.describe() )\n",
    "\n",
    "timeSubmitSec_column = timeSubmitSecValid.append(timeSubmitSecInvalid, ignore_index = True)\n",
    "df = df.assign(timeSubmitSec=timeSubmitSec_column)\n",
    "\n",
    "del timeSubmitSecValid, timeSubmitSecInvalid, timeSubmitSec_column\n",
    "\n",
    "#plt = df['timeSubmitSec'].plot.hist()\n",
    "#del plt"
   ]
  },
  {
   "cell_type": "markdown",
   "metadata": {},
   "source": [
    "## 1.4. Browser"
   ]
  },
  {
   "cell_type": "code",
   "execution_count": 7,
   "metadata": {},
   "outputs": [],
   "source": [
    "browsers = [\"edge\",\"chrome\",\"safari\",\"firefox\",\"opera\",\"vivaldi\"]\n",
    "\n",
    "## Valid ##\n",
    "browserValid = np.floor( np.random.standard_gamma(2, nbr_valid_records) )\n",
    "browserValid = pd.Series(browserValid)\n",
    "#browserValid.plot.hist()\n",
    "#print( browserValid.describe() )\n",
    "\n",
    "## Invalid ##\n",
    "browserInvalid = np.floor( 6 * np.random.power(3, size=nbr_invalid_records) )\n",
    "browserInvalid = pd.Series(browserInvalid)\n",
    "#browserInvalid.plot.hist()\n",
    "#print( browserInvalid.describe() )\n",
    "\n",
    "browser_column = browserValid.append(browserInvalid, ignore_index = True)\n",
    "df = df.assign(browser=browser_column)\n",
    "\n",
    "del browserValid, browserInvalid, browser_column\n",
    "\n",
    "#plt = df['browser'].plot.hist()\n",
    "#del plt"
   ]
  },
  {
   "cell_type": "markdown",
   "metadata": {},
   "source": [
    "## 1.5. Packages"
   ]
  },
  {
   "cell_type": "code",
   "execution_count": 8,
   "metadata": {},
   "outputs": [],
   "source": [
    "packages = [\"pkg_alpha\",\"pkg_beta\",\"pkg_delta\",\"pkg_epsilon\",\"pkg_eta\",\"pkg_gamma\",\"pkg_iota\",\"pkg_kappa\",\"pkg_lambda\",\"pkg_omega\",\"pkg_omicron\",\"pkg_sigma\",\"pkg_theta\",\"pkg_upsilon\",\"pkg_zeta\"]\n",
    "\n",
    "## Valid ##\n",
    "packageValid = np.floor( np.random.standard_gamma(2, nbr_valid_records) ) * 3\n",
    "packageValid = pd.Series(packageValid)\n",
    "#packageValid.plot.hist()\n",
    "#print( packageValid.describe() )\n",
    "\n",
    "## Invalid ##\n",
    "packageInvalid = np.floor( 15 * np.random.power(3, size=nbr_invalid_records) )\n",
    "packageInvalid = pd.Series(packageInvalid)\n",
    "#packageInvalid.plot.hist()\n",
    "#print( packageInvalid.describe() )\n",
    "\n",
    "package_column = packageValid.append(packageInvalid, ignore_index = True)\n",
    "df = df.assign(package=package_column)\n",
    "\n",
    "del packageValid, packageInvalid, package_column\n",
    "\n",
    "#plt = df['package'].plot.hist()\n",
    "#del plt"
   ]
  },
  {
   "cell_type": "markdown",
   "metadata": {},
   "source": [
    "## 1.6. In list"
   ]
  },
  {
   "cell_type": "code",
   "execution_count": 10,
   "metadata": {},
   "outputs": [],
   "source": [
    "## Valid ##\n",
    "inListValid = np.floor( np.random.standard_gamma(0.5, size=nbr_valid_records) )\n",
    "inListValid = pd.Series(inListValid)\n",
    "#inListValid.plot.hist()\n",
    "#print( inListValid.describe() )\n",
    "\n",
    "## Invalid ##\n",
    "inListInvalid = np.floor( 4 * np.random.power(3, size=nbr_invalid_records) )\n",
    "inListInvalid = pd.Series(inListInvalid)\n",
    "#inListInvalid.plot.hist()\n",
    "#print( inListInvalid.describe() )\n",
    "\n",
    "inList_column = inListValid.append(inListInvalid, ignore_index = True)\n",
    "df = df.assign(inList=inList_column)\n",
    "\n",
    "del inListValid, inListInvalid, inList_column\n",
    "\n",
    "#plt = df['inList'].plot.hist()\n",
    "#del plt"
   ]
  },
  {
   "cell_type": "markdown",
   "metadata": {},
   "source": [
    "## 1.7. Is Customer"
   ]
  },
  {
   "cell_type": "code",
   "execution_count": 11,
   "metadata": {},
   "outputs": [],
   "source": [
    "## Valid ##\n",
    "inCustValid = np.random.randint(0, 20, size=nbr_valid_records) % 4\n",
    "inCustValid = np.where(inCustValid > 0, 0, 1)\n",
    "inCustValid = pd.Series(inCustValid)\n",
    "#inCustValid.plot.hist()\n",
    "#print( inCustValid.describe() )\n",
    "\n",
    "## Invalid ##\n",
    "inCustInvalid = np.random.randint(0, 20, size=nbr_invalid_records) % 4\n",
    "inCustInvalid = np.where(inCustInvalid > 0, 1, 0)\n",
    "inCustInvalid = pd.Series(inCustInvalid)\n",
    "#inCustInvalid.plot.hist()\n",
    "#print( inCustInvalid.describe() )\n",
    "\n",
    "inCust_column = inCustValid.append(inCustInvalid, ignore_index = True)\n",
    "df = df.assign(inCust=inCust_column)\n",
    "del inCustValid, inCustInvalid, inCust_column\n",
    "\n",
    "#plt = df['inCust'].plot.hist()\n",
    "#del plt"
   ]
  },
  {
   "cell_type": "markdown",
   "metadata": {},
   "source": [
    "## 1.8. Day of the week"
   ]
  },
  {
   "cell_type": "code",
   "execution_count": 12,
   "metadata": {},
   "outputs": [],
   "source": [
    "weekDays = [\"monday\",\"tuesday\",\"wednesday\",\"thursday\",\"friday\",\"saturday\",\"sunday\"]\n",
    "\n",
    "## Valid ##\n",
    "weekDayValid = np.floor( np.random.power(4, size=nbr_valid_records) * 7 )\n",
    "weekDayValid = pd.Series(weekDayValid)\n",
    "#weekDayValid.plot.hist()\n",
    "#print( weekDayValid.describe() )\n",
    "\n",
    "## Invalid ##\n",
    "weekDayInvalid = np.floor( np.random.power(2, size=nbr_invalid_records) * 7 )\n",
    "weekDayInvalid = np.where( weekDayInvalid < 4, weekDayInvalid + 3, weekDayInvalid)\n",
    "weekDayInvalid = pd.Series(weekDayInvalid)\n",
    "#weekDayInvalid.plot.hist()\n",
    "#print( weekDayInvalid.describe() )\n",
    "\n",
    "weekDay_column = weekDayValid.append(weekDayInvalid, ignore_index = True)\n",
    "df = df.assign(weekDay=weekDay_column)\n",
    "del weekDayValid, weekDayInvalid, weekDay_column\n",
    "\n",
    "#plt = df['weekDay'].plot.hist()\n",
    "#del plt"
   ]
  },
  {
   "cell_type": "markdown",
   "metadata": {},
   "source": [
    "## 1.9. Hour of the day"
   ]
  },
  {
   "cell_type": "code",
   "execution_count": 13,
   "metadata": {},
   "outputs": [],
   "source": [
    "## Valid - Morning ##\n",
    "appHourAM = np.floor( np.random.standard_normal(nbr_valid_records) * 2) + 11\n",
    "appHourAM = pd.Series(appHourAM)\n",
    "#appHourAM.plot.hist()\n",
    "#print( appHourAM.describe() )\n",
    "\n",
    "## Valid - PM ##\n",
    "appHourPM = np.floor( np.random.standard_normal(nbr_valid_records) * 2) + 22\n",
    "appHourPM = np.where(appHourPM>23, appHourPM-23, appHourPM)\n",
    "appHourPM = pd.Series(appHourPM)\n",
    "#appHourPM.plot.hist()\n",
    "#print( appHourPM.describe() )\n",
    "\n",
    "appHourValid = appHourAM.append(appHourPM, ignore_index = True)\n",
    "#appHourValid.plot.hist()\n",
    "#print( appHourValid.describe() )\n",
    "\n",
    "################################################\n",
    "\n",
    "## Invalid - Morning ##\n",
    "appHourAM = np.floor( np.random.standard_normal(nbr_invalid_records) * 2) + 9\n",
    "appHourAM = pd.Series(appHourAM)\n",
    "#appHourAM.plot.hist()\n",
    "#print( appHourAM.describe() )\n",
    "\n",
    "## Invalid - PM ##\n",
    "appHourPM = np.floor( np.random.standard_normal(nbr_invalid_records) * 2) + 24\n",
    "appHourPM = np.where(appHourPM>23, appHourPM-23, appHourPM)\n",
    "appHourPM = pd.Series(appHourPM)\n",
    "#appHourPM.plot.hist()\n",
    "#print( appHourPM.describe() )\n",
    "\n",
    "appHourInvalid = appHourAM.append(appHourPM, ignore_index = True)\n",
    "#appHour_column.plot.hist()\n",
    "#print( appHour_column.describe() )\n",
    "\n",
    "appHour_column = appHourValid.append(appHourInvalid, ignore_index = True)\n",
    "df = df.assign(appHour=appHour_column)\n",
    "\n",
    "del appHourAM, appHourPM, appHourValid, appHourInvalid, appHour_column\n",
    "\n",
    "#plt = df['appHour'].plot.hist()\n",
    "#del plt"
   ]
  },
  {
   "cell_type": "markdown",
   "metadata": {},
   "source": [
    "## Score"
   ]
  },
  {
   "cell_type": "code",
   "execution_count": 14,
   "metadata": {},
   "outputs": [],
   "source": [
    "df = df.assign(score=0)"
   ]
  },
  {
   "cell_type": "markdown",
   "metadata": {},
   "source": [
    "# Export to CSV"
   ]
  },
  {
   "cell_type": "code",
   "execution_count": 15,
   "metadata": {},
   "outputs": [],
   "source": [
    "df.to_csv('datagen.csv', index=False)"
   ]
  },
  {
   "cell_type": "code",
   "execution_count": null,
   "metadata": {},
   "outputs": [],
   "source": []
  }
 ],
 "metadata": {
  "kernelspec": {
   "display_name": "Python 3",
   "language": "python",
   "name": "python3"
  },
  "language_info": {
   "codemirror_mode": {
    "name": "ipython",
    "version": 3
   },
   "file_extension": ".py",
   "mimetype": "text/x-python",
   "name": "python",
   "nbconvert_exporter": "python",
   "pygments_lexer": "ipython3",
   "version": "3.8.5"
  }
 },
 "nbformat": 4,
 "nbformat_minor": 2
}
