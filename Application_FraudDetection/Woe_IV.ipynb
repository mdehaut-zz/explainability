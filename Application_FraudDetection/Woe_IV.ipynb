{
 "cells": [
  {
   "cell_type": "markdown",
   "metadata": {},
   "source": [
    "# Weight of Evidence - Information Value\n",
    "- [Link](https://towardsdatascience.com/churn-analysis-information-value-and-weight-of-evidence-6a35db8b9ec5)\n",
    "- [Link](https://github.com/klaudia-nazarko/iv-and-woe-python)\n",
    "\n",
    "## Imports"
   ]
  },
  {
   "cell_type": "code",
   "execution_count": 2,
   "metadata": {},
   "outputs": [],
   "source": [
    "import matplotlib.pyplot as plt\n",
    "import math\n",
    "import pandas as pd\n",
    "import seaborn as sns\n",
    "\n",
    "from pandas.api.types import is_numeric_dtype\n",
    "from matplotlib.colors import ListedColormap\n",
    "\n",
    "from Features import *\n",
    "from AttributeRelevance import *"
   ]
  },
  {
   "cell_type": "markdown",
   "metadata": {},
   "source": [
    "## Configuration"
   ]
  },
  {
   "cell_type": "code",
   "execution_count": 3,
   "metadata": {},
   "outputs": [],
   "source": [
    "pd.options.display.float_format = '{:,.2f}'.format\n",
    "pd.set_option('display.max_columns', None)\n",
    "sns.set_style(\"whitegrid\")"
   ]
  },
  {
   "cell_type": "markdown",
   "metadata": {},
   "source": [
    "## Data Preparation"
   ]
  },
  {
   "cell_type": "code",
   "execution_count": 4,
   "metadata": {},
   "outputs": [],
   "source": [
    "df = pd.read_csv('datagen.csv', na_values=[' '])"
   ]
  },
  {
   "cell_type": "code",
   "execution_count": 5,
   "metadata": {},
   "outputs": [],
   "source": [
    "df['label'] = df['app_status'].map({'valid': 0, 'invalid': 1})\n",
    "df['browserType'] = df['browser'].map({0: 'edge', 1: 'chrome', 2: 'safari', 3: 'firefox', 4: 'opera', 5: 'vivaldi' })\n",
    "\n",
    "df.drop(['app_id', 'app_status', 'browser', 'score'], axis=1, inplace=True)"
   ]
  },
  {
   "cell_type": "code",
   "execution_count": 6,
   "metadata": {},
   "outputs": [
    {
     "data": {
      "text/html": [
       "<div>\n",
       "<style scoped>\n",
       "    .dataframe tbody tr th:only-of-type {\n",
       "        vertical-align: middle;\n",
       "    }\n",
       "\n",
       "    .dataframe tbody tr th {\n",
       "        vertical-align: top;\n",
       "    }\n",
       "\n",
       "    .dataframe thead th {\n",
       "        text-align: right;\n",
       "    }\n",
       "</style>\n",
       "<table border=\"1\" class=\"dataframe\">\n",
       "  <thead>\n",
       "    <tr style=\"text-align: right;\">\n",
       "      <th></th>\n",
       "      <th>ipAddress</th>\n",
       "      <th>ipHop</th>\n",
       "      <th>timeSubmitSec</th>\n",
       "      <th>package</th>\n",
       "      <th>inList</th>\n",
       "      <th>inCust</th>\n",
       "      <th>weekDay</th>\n",
       "      <th>appHour</th>\n",
       "      <th>label</th>\n",
       "      <th>browserType</th>\n",
       "    </tr>\n",
       "  </thead>\n",
       "  <tbody>\n",
       "    <tr>\n",
       "      <th>2279</th>\n",
       "      <td>15,384.00</td>\n",
       "      <td>0.00</td>\n",
       "      <td>16.00</td>\n",
       "      <td>0.00</td>\n",
       "      <td>1.00</td>\n",
       "      <td>0</td>\n",
       "      <td>5.00</td>\n",
       "      <td>13.00</td>\n",
       "      <td>0</td>\n",
       "      <td>safari</td>\n",
       "    </tr>\n",
       "    <tr>\n",
       "      <th>9641</th>\n",
       "      <td>13,636.00</td>\n",
       "      <td>3.00</td>\n",
       "      <td>1.00</td>\n",
       "      <td>13.00</td>\n",
       "      <td>1.00</td>\n",
       "      <td>1</td>\n",
       "      <td>6.00</td>\n",
       "      <td>17.00</td>\n",
       "      <td>1</td>\n",
       "      <td>firefox</td>\n",
       "    </tr>\n",
       "    <tr>\n",
       "      <th>4204</th>\n",
       "      <td>21,538.00</td>\n",
       "      <td>0.00</td>\n",
       "      <td>21.00</td>\n",
       "      <td>3.00</td>\n",
       "      <td>0.00</td>\n",
       "      <td>1</td>\n",
       "      <td>5.00</td>\n",
       "      <td>14.00</td>\n",
       "      <td>0</td>\n",
       "      <td>firefox</td>\n",
       "    </tr>\n",
       "    <tr>\n",
       "      <th>4517</th>\n",
       "      <td>15,384.00</td>\n",
       "      <td>0.00</td>\n",
       "      <td>15.00</td>\n",
       "      <td>0.00</td>\n",
       "      <td>0.00</td>\n",
       "      <td>1</td>\n",
       "      <td>5.00</td>\n",
       "      <td>9.00</td>\n",
       "      <td>0</td>\n",
       "      <td>chrome</td>\n",
       "    </tr>\n",
       "    <tr>\n",
       "      <th>3413</th>\n",
       "      <td>6,153.00</td>\n",
       "      <td>0.00</td>\n",
       "      <td>22.00</td>\n",
       "      <td>12.00</td>\n",
       "      <td>0.00</td>\n",
       "      <td>0</td>\n",
       "      <td>5.00</td>\n",
       "      <td>8.00</td>\n",
       "      <td>0</td>\n",
       "      <td>safari</td>\n",
       "    </tr>\n",
       "    <tr>\n",
       "      <th>4230</th>\n",
       "      <td>12,307.00</td>\n",
       "      <td>0.00</td>\n",
       "      <td>22.00</td>\n",
       "      <td>9.00</td>\n",
       "      <td>0.00</td>\n",
       "      <td>0</td>\n",
       "      <td>6.00</td>\n",
       "      <td>12.00</td>\n",
       "      <td>0</td>\n",
       "      <td>NaN</td>\n",
       "    </tr>\n",
       "    <tr>\n",
       "      <th>9776</th>\n",
       "      <td>17,272.00</td>\n",
       "      <td>2.00</td>\n",
       "      <td>5.00</td>\n",
       "      <td>14.00</td>\n",
       "      <td>2.00</td>\n",
       "      <td>1</td>\n",
       "      <td>6.00</td>\n",
       "      <td>20.00</td>\n",
       "      <td>1</td>\n",
       "      <td>vivaldi</td>\n",
       "    </tr>\n",
       "    <tr>\n",
       "      <th>6518</th>\n",
       "      <td>6,153.00</td>\n",
       "      <td>0.00</td>\n",
       "      <td>19.00</td>\n",
       "      <td>3.00</td>\n",
       "      <td>2.00</td>\n",
       "      <td>0</td>\n",
       "      <td>4.00</td>\n",
       "      <td>10.00</td>\n",
       "      <td>0</td>\n",
       "      <td>chrome</td>\n",
       "    </tr>\n",
       "    <tr>\n",
       "      <th>3702</th>\n",
       "      <td>9,230.00</td>\n",
       "      <td>0.00</td>\n",
       "      <td>19.00</td>\n",
       "      <td>3.00</td>\n",
       "      <td>0.00</td>\n",
       "      <td>0</td>\n",
       "      <td>6.00</td>\n",
       "      <td>9.00</td>\n",
       "      <td>0</td>\n",
       "      <td>edge</td>\n",
       "    </tr>\n",
       "    <tr>\n",
       "      <th>9205</th>\n",
       "      <td>15,454.00</td>\n",
       "      <td>1.00</td>\n",
       "      <td>2.00</td>\n",
       "      <td>14.00</td>\n",
       "      <td>3.00</td>\n",
       "      <td>0</td>\n",
       "      <td>5.00</td>\n",
       "      <td>21.00</td>\n",
       "      <td>1</td>\n",
       "      <td>vivaldi</td>\n",
       "    </tr>\n",
       "  </tbody>\n",
       "</table>\n",
       "</div>"
      ],
      "text/plain": [
       "      ipAddress  ipHop  timeSubmitSec  package  inList  inCust  weekDay  \\\n",
       "2279  15,384.00   0.00          16.00     0.00    1.00       0     5.00   \n",
       "9641  13,636.00   3.00           1.00    13.00    1.00       1     6.00   \n",
       "4204  21,538.00   0.00          21.00     3.00    0.00       1     5.00   \n",
       "4517  15,384.00   0.00          15.00     0.00    0.00       1     5.00   \n",
       "3413   6,153.00   0.00          22.00    12.00    0.00       0     5.00   \n",
       "4230  12,307.00   0.00          22.00     9.00    0.00       0     6.00   \n",
       "9776  17,272.00   2.00           5.00    14.00    2.00       1     6.00   \n",
       "6518   6,153.00   0.00          19.00     3.00    2.00       0     4.00   \n",
       "3702   9,230.00   0.00          19.00     3.00    0.00       0     6.00   \n",
       "9205  15,454.00   1.00           2.00    14.00    3.00       0     5.00   \n",
       "\n",
       "      appHour  label browserType  \n",
       "2279    13.00      0      safari  \n",
       "9641    17.00      1     firefox  \n",
       "4204    14.00      0     firefox  \n",
       "4517     9.00      0      chrome  \n",
       "3413     8.00      0      safari  \n",
       "4230    12.00      0         NaN  \n",
       "9776    20.00      1     vivaldi  \n",
       "6518    10.00      0      chrome  \n",
       "3702     9.00      0        edge  \n",
       "9205    21.00      1     vivaldi  "
      ]
     },
     "execution_count": 6,
     "metadata": {},
     "output_type": "execute_result"
    }
   ],
   "source": [
    "df.sample(10)"
   ]
  },
  {
   "cell_type": "markdown",
   "metadata": {},
   "source": [
    "## Data Exploration"
   ]
  },
  {
   "cell_type": "code",
   "execution_count": 7,
   "metadata": {},
   "outputs": [],
   "source": [
    "def eda_categorical(data, variable, ax=None):\n",
    "    variable_df = data[variable].value_counts(normalize=True).reset_index()\n",
    "    n_colors = len(variable_df)\n",
    "    variable_df.set_index('index').T.plot(kind='barh',\n",
    "                                        stacked=True,\n",
    "                                        colormap=ListedColormap(sns.color_palette(\"Set2\", n_colors)),\n",
    "                                        width=0.15, ax=ax)\n",
    "\n",
    "def multiple_eda_categorical(data, list_categorical):\n",
    "    n_rows = math.ceil(len(list_categorical)/2)\n",
    "    fig = plt.figure(figsize=(12,n_rows*3))\n",
    "\n",
    "    for i, variable in enumerate(list_categorical):\n",
    "        ax = fig.add_subplot(n_rows,2,i+1)\n",
    "        eda_categorical(data, variable, ax=ax)\n",
    "    \n",
    "    plt.tight_layout()\n",
    "    plt.show()\n",
    "\n",
    "def multiple_eda_continuous(data, list_continuous):\n",
    "    n_rows = math.ceil(len(list_continuous)/3)\n",
    "    fig = plt.figure(figsize=(12,n_rows*5))\n",
    "    palette = sns.color_palette('Set2', 3)\n",
    "\n",
    "    for i, variable in enumerate(list_continuous):\n",
    "        ax = fig.add_subplot(n_rows,3,i+1)\n",
    "        sns.boxplot(x=variable, data=data, orient='v', palette=[palette[i]], ax=ax)\n",
    "        ax.set_ylabel('')\n",
    "        ax.set_title(variable)\n",
    "\n",
    "    plt.tight_layout()\n",
    "    plt.show()"
   ]
  },
  {
   "cell_type": "code",
   "execution_count": 8,
   "metadata": {},
   "outputs": [],
   "source": [
    "continuous, categorical = [], []\n",
    "black_list = ['ipHop', 'inCust']\n",
    "\n",
    "for col in [c for c in df.columns if c not in black_list and c != 'label']:\n",
    "    if is_numeric_dtype(df[col]):\n",
    "        continuous.append(col)\n",
    "    else:\n",
    "        categorical.append(col)"
   ]
  },
  {
   "cell_type": "code",
   "execution_count": 9,
   "metadata": {
    "scrolled": true
   },
   "outputs": [
    {
     "name": "stdout",
     "output_type": "stream",
     "text": [
      "Dataset contains 10000 records\n",
      "Number of invalid records: 2000 (20.00%)\n"
     ]
    }
   ],
   "source": [
    "n = len(df)\n",
    "n_invalid = sum(df['label'])\n",
    "n_valid = n - n_invalid\n",
    "\n",
    "print('Dataset contains %d records' % (n))\n",
    "print('Number of invalid records: %d (%0.2f%%)' % (n_invalid, n_invalid*100/n))"
   ]
  },
  {
   "cell_type": "code",
   "execution_count": 10,
   "metadata": {},
   "outputs": [
    {
     "data": {
      "image/png": "[encoded data removed]",
      "text/plain": [
       "<Figure size 864x216 with 1 Axes>"
      ]
     },
     "metadata": {},
     "output_type": "display_data"
    }
   ],
   "source": [
    "multiple_eda_categorical(df, categorical)"
   ]
  },
  {
   "cell_type": "code",
   "execution_count": 11,
   "metadata": {},
   "outputs": [
    {
     "name": "stderr",
     "output_type": "stream",
     "text": [
      "D:\\Anaconda3\\lib\\site-packages\\seaborn\\_core.py:1303: UserWarning: Vertical orientation ignored with only `x` specified.\n",
      "  warnings.warn(single_var_warning.format(\"Vertical\", \"x\"))\n",
      "D:\\Anaconda3\\lib\\site-packages\\seaborn\\_core.py:1303: UserWarning: Vertical orientation ignored with only `x` specified.\n",
      "  warnings.warn(single_var_warning.format(\"Vertical\", \"x\"))\n",
      "D:\\Anaconda3\\lib\\site-packages\\seaborn\\_core.py:1303: UserWarning: Vertical orientation ignored with only `x` specified.\n",
      "  warnings.warn(single_var_warning.format(\"Vertical\", \"x\"))\n"
     ]
    },
    {
     "ename": "IndexError",
     "evalue": "list index out of range",
     "output_type": "error",
     "traceback": [
      "\u001b[1;31m---------------------------------------------------------------------------\u001b[0m",
      "\u001b[1;31mIndexError\u001b[0m                                Traceback (most recent call last)",
      "\u001b[1;32m<ipython-input-11-4105fd60558b>\u001b[0m in \u001b[0;36m<module>\u001b[1;34m\u001b[0m\n\u001b[1;32m----> 1\u001b[1;33m \u001b[0mmultiple_eda_continuous\u001b[0m\u001b[1;33m(\u001b[0m\u001b[0mdf\u001b[0m\u001b[1;33m,\u001b[0m \u001b[0mcontinuous\u001b[0m\u001b[1;33m)\u001b[0m\u001b[1;33m\u001b[0m\u001b[1;33m\u001b[0m\u001b[0m\n\u001b[0m",
      "\u001b[1;32m<ipython-input-7-93f5d814c3a1>\u001b[0m in \u001b[0;36mmultiple_eda_continuous\u001b[1;34m(data, list_continuous)\u001b[0m\n\u001b[0;32m     25\u001b[0m     \u001b[1;32mfor\u001b[0m \u001b[0mi\u001b[0m\u001b[1;33m,\u001b[0m \u001b[0mvariable\u001b[0m \u001b[1;32min\u001b[0m \u001b[0menumerate\u001b[0m\u001b[1;33m(\u001b[0m\u001b[0mlist_continuous\u001b[0m\u001b[1;33m)\u001b[0m\u001b[1;33m:\u001b[0m\u001b[1;33m\u001b[0m\u001b[1;33m\u001b[0m\u001b[0m\n\u001b[0;32m     26\u001b[0m         \u001b[0max\u001b[0m \u001b[1;33m=\u001b[0m \u001b[0mfig\u001b[0m\u001b[1;33m.\u001b[0m\u001b[0madd_subplot\u001b[0m\u001b[1;33m(\u001b[0m\u001b[0mn_rows\u001b[0m\u001b[1;33m,\u001b[0m\u001b[1;36m3\u001b[0m\u001b[1;33m,\u001b[0m\u001b[0mi\u001b[0m\u001b[1;33m+\u001b[0m\u001b[1;36m1\u001b[0m\u001b[1;33m)\u001b[0m\u001b[1;33m\u001b[0m\u001b[1;33m\u001b[0m\u001b[0m\n\u001b[1;32m---> 27\u001b[1;33m         \u001b[0msns\u001b[0m\u001b[1;33m.\u001b[0m\u001b[0mboxplot\u001b[0m\u001b[1;33m(\u001b[0m\u001b[0mx\u001b[0m\u001b[1;33m=\u001b[0m\u001b[0mvariable\u001b[0m\u001b[1;33m,\u001b[0m \u001b[0mdata\u001b[0m\u001b[1;33m=\u001b[0m\u001b[0mdata\u001b[0m\u001b[1;33m,\u001b[0m \u001b[0morient\u001b[0m\u001b[1;33m=\u001b[0m\u001b[1;34m'v'\u001b[0m\u001b[1;33m,\u001b[0m \u001b[0mpalette\u001b[0m\u001b[1;33m=\u001b[0m\u001b[1;33m[\u001b[0m\u001b[0mpalette\u001b[0m\u001b[1;33m[\u001b[0m\u001b[0mi\u001b[0m\u001b[1;33m]\u001b[0m\u001b[1;33m]\u001b[0m\u001b[1;33m,\u001b[0m \u001b[0max\u001b[0m\u001b[1;33m=\u001b[0m\u001b[0max\u001b[0m\u001b[1;33m)\u001b[0m\u001b[1;33m\u001b[0m\u001b[1;33m\u001b[0m\u001b[0m\n\u001b[0m\u001b[0;32m     28\u001b[0m         \u001b[0max\u001b[0m\u001b[1;33m.\u001b[0m\u001b[0mset_ylabel\u001b[0m\u001b[1;33m(\u001b[0m\u001b[1;34m''\u001b[0m\u001b[1;33m)\u001b[0m\u001b[1;33m\u001b[0m\u001b[1;33m\u001b[0m\u001b[0m\n\u001b[0;32m     29\u001b[0m         \u001b[0max\u001b[0m\u001b[1;33m.\u001b[0m\u001b[0mset_title\u001b[0m\u001b[1;33m(\u001b[0m\u001b[0mvariable\u001b[0m\u001b[1;33m)\u001b[0m\u001b[1;33m\u001b[0m\u001b[1;33m\u001b[0m\u001b[0m\n",
      "\u001b[1;31mIndexError\u001b[0m: list index out of range"
     ]
    },
    {
     "data": {
      "image/png": "[encoded data removed]",
      "text/plain": [
       "<Figure size 864x720 with 4 Axes>"
      ]
     },
     "metadata": {},
     "output_type": "display_data"
    }
   ],
   "source": [
    "multiple_eda_continuous(df, continuous)"
   ]
  },
  {
   "cell_type": "markdown",
   "metadata": {},
   "source": [
    "## Information Value and Weight of Evidence\n",
    "\n",
    "Attribute relevance analysis evaluates attribute values' impact on target variable. It helps in recognizing the most important variables which have the greatest impact on target variable and understanding relations and logic between the most important predictors and the target variable.\n",
    "\n",
    "Information value (IV) and weight of evidence (WOE) are simple and powerful techniques of conducting attribute relevance analysis. They provide a great framework for exploratory analysis and have been used extensively in the credit risk world for several decades.\n",
    "\n",
    "**Information value**\n",
    ">Information Value provides a measure of how well a variable X is able to distinguish between a binary response (e.g. \"good\" versus \"bad\") in some target variable Y. The idea is if a variable X has a low Information Value, it may not do a sufficient job of classifying the target variable, and hence is removed as an explanatory variable.\n",
    "\n",
    "**Weight of evidence**\n",
    ">The weight of evidence tells the predictive power of an independent variable in relation to the dependent variable. Since it evolved from credit scoring world, it is generally described as a measure of the separation of good and bad customers. \"Bad Customers\" refers to the customers who defaulted on a loan. and \"Good Customers\" refers to the customers who paid back loan.\n",
    "\n",
    "**IV values interpretation**\n",
    "\n",
    "| Information value        | Predictive power           |\n",
    "| ------------- |:-------------:|\n",
    "| < 0.02      | useless for prediction |\n",
    "| 0.02 - 0.1      | weak predictor      |\n",
    "| 0.1 - 0.3 | medium predictor      |\n",
    "| 0.3 - 0.5 | strong predictor      |\n",
    "| > 0.5 | suspicious or too good      |"
   ]
  },
  {
   "cell_type": "code",
   "execution_count": null,
   "metadata": {},
   "outputs": [],
   "source": [
    "feats_dict = {}\n",
    "filter_list = ['safari']\n",
    "\n",
    "for col in [c for c in df.columns if c not in filter_list and c != 'label']:\n",
    "    if is_numeric_dtype(df[col]):\n",
    "        feats_dict[col] = ContinuousFeature(df, col)\n",
    "    else:\n",
    "        feats_dict[col] = CategoricalFeature(df, col)\n",
    "\n",
    "feats = list(feats_dict.values())"
   ]
  },
  {
   "cell_type": "code",
   "execution_count": null,
   "metadata": {},
   "outputs": [],
   "source": [
    "iv = IV()\n",
    "s = StatsSignificance()\n",
    "\n",
    "ar = AttributeRelevance()"
   ]
  },
  {
   "cell_type": "markdown",
   "metadata": {},
   "source": [
    "## Information value analysis\n",
    "\n",
    "Customers who churned are labeled with value 0 ('bad' customers) and those who retained with value 1 ('good' customers). It implies that positive WOE means higher probability of retention and negative WOE - higher probability of churn.\n",
    "\n",
    "As mentioned before, the analysis was divided into 2 parts: analysis of all customers and analysis of only customers with internet service. It reveals some interesting relations:\n",
    "\n",
    "**Suspicious predictors**\n",
    "\n",
    "This group contains: contract, tenure and internet service. It shows that relation between values of those features and churn is very strong - so strong that it should be examined carefully. It may suggest that there is some error in the data or that explanatory and explained variables are not independent.\n",
    "\n",
    "Analysis of 'contract' feature shows that WOE for month-to-month contracts is negative while it's very high for two year contracts. It can be explained by the fact that customers with shorter contract have many more 'churn moments' (every month they need to renew their service) than customers with long-term contracts, thus their churn rate is much higher.\n",
    "\n",
    "**Strong predictors**\n",
    "\n",
    "Fortunately, this group of features is quite big. It contains: payment method, total charges, online security and tech support. They show strong relation between value of the feature and churn. They can be successfully used to predict churn of the customer.\n",
    "\n",
    "Analysis of total charges shows that customers who have already spent more than \\\\$678 are less likely to churn. To fully understand this relation it's good to notice that total charges is the resultant of monthly charge and the tenure. Monthly charges variable tells us that users who pay \\\\$18 - \\\\$50 monthly are less likely to churn and the risk of churn increases with the increase of monthly fee. In this case, although total charges feature has higher IV, it seems more actionable to use monthly charges and tenure variables separately."
   ]
  },
  {
   "cell_type": "code",
   "execution_count": null,
   "metadata": {
    "scrolled": false
   },
   "outputs": [],
   "source": [
    "ar.analyze(feats, iv, interpretation=True)"
   ]
  },
  {
   "cell_type": "code",
   "execution_count": null,
   "metadata": {
    "scrolled": false
   },
   "outputs": [],
   "source": [
    "ar.draw_iv(feats, iv)"
   ]
  },
  {
   "cell_type": "code",
   "execution_count": null,
   "metadata": {
    "scrolled": false
   },
   "outputs": [],
   "source": [
    "ar.draw_woe_extremes(feats, iv)"
   ]
  },
  {
   "cell_type": "code",
   "execution_count": null,
   "metadata": {},
   "outputs": [],
   "source": [
    "feats_dict_black = {}\n",
    "df_black = df[df['browserType']!='vivaldi']\n",
    "for b in filter_list:\n",
    "    feats_dict_black[b] = CategoricalFeature(df_black, b)\n",
    "\n",
    "feats_black = list(feats_dict_black.values())"
   ]
  },
  {
   "cell_type": "code",
   "execution_count": null,
   "metadata": {},
   "outputs": [],
   "source": [
    "ar.analyze(feats_black, iv, interpretation=True)"
   ]
  },
  {
   "cell_type": "markdown",
   "metadata": {},
   "source": [
    "## Weight of evidence analysis\n",
    "\n",
    "Detailed examination of WOE provides interesting insights and shows some possible issues in the services offered by the company.\n",
    "\n",
    "**Tenure vs total charges**\n",
    "\n",
    "As mentioned before, those two features show very similar behaviour - and it is totally logical since total charges = tenure * monthly charges. It's good to have it in mind and focus more on monthly charges variable instead of total charges.\n",
    "\n",
    "**Internet service**\n",
    "\n",
    "Among the customers there are those who use DSL network, Fiber optic network or don't use the internet service. It's interesting to see that customers using Fiber optic are much more likely to churn - it may suggest some problems with the service.\n",
    "\n",
    "**Payment method**\n",
    "\n",
    "The company offers four different payment methods: bank transfer, credit card, electronic check and mailed check. The analysis shows that users who pay with electronic check are more likely to churn. In order to understand this relation it's good to check which payment methods are recurring and what are the possible issues that customers have while using electronic check.\n",
    "\n",
    "**Additional Internet services**\n",
    "\n",
    "The analysis of customers using Internet service shows that those who use additional services like: online security, tech support and online backup are more likely to retain."
   ]
  },
  {
   "cell_type": "code",
   "execution_count": null,
   "metadata": {
    "scrolled": true
   },
   "outputs": [],
   "source": [
    "f_draw = ['ipAddress', 'timeSubmitSec', 'package', 'inList', 'weekDay', 'appHour']\n",
    "feats_draw = [v for k, v in feats_dict.items() if k in f_draw]\n",
    "ar.draw_woe_multiplot(feats_draw, iv)"
   ]
  },
  {
   "cell_type": "code",
   "execution_count": null,
   "metadata": {
    "scrolled": true
   },
   "outputs": [],
   "source": [
    "f_black_draw = ['ipAddress']\n",
    "feats_black_draw = [v for k, v in feats_dict_black.items() if k in f_black_draw]\n",
    "ar.draw_woe_multiplot(feats_black_draw, iv)"
   ]
  },
  {
   "cell_type": "markdown",
   "metadata": {},
   "source": [
    "### Read more\n",
    "\n",
    "- What about statistical significance? Check [**Information Value vs Statistical Significance Analysis**](https://github.com/klaudia-nazarko/iv-and-woe-python/blob/master/statistical_significance_of_information_value.ipynb).\n",
    "- In order to see how Information Value module is used, check [**IV and WOE in Python**](https://github.com/klaudia-nazarko/iv-and-woe-python/blob/master/iv_and_woe_in_python.ipynb)."
   ]
  },
  {
   "cell_type": "markdown",
   "metadata": {},
   "source": [
    "## Archives"
   ]
  },
  {
   "cell_type": "code",
   "execution_count": null,
   "metadata": {},
   "outputs": [],
   "source": [
    "def get_IV(df, feature, target):\n",
    "    lst = []\n",
    "\n",
    "    # optional\n",
    "    # df[feature] = df[feature].fillna(\"NULL\")\n",
    "\n",
    "    unique_values = df[feature].unique()\n",
    "    for val in unique_values:\n",
    "        lst.append([feature,                                                        # Feature name\n",
    "                    val,                                                            # Value of a feature (unique)\n",
    "                    df[(df[feature] == val) & (df[target] == 0)].count()[feature],  # Good (Fraud == 0)\n",
    "                    df[(df[feature] == val) & (df[target] == 1)].count()[feature]   # Bad  (Fraud == 1)\n",
    "                   ])\n",
    " \n",
    "    data = pd.DataFrame(lst, columns=['Variable', 'Value', 'Good', 'Bad'])\n",
    "\n",
    "        \n",
    "    total_bad = df[df[target] == 1].count()[feature]\n",
    "    total_good = df.shape[0] - total_bad\n",
    "    \n",
    "    data['Distribution Good'] = data['Good']/ total_good\n",
    "    data['Distribution Bad'] = data['Bad'] / total_bad\n",
    "    data['WoE'] = np.log(data['Distribution Good'] / data['Distribution Bad'])\n",
    "\n",
    "    data = data.replace({'WoE': {np.inf: 0, -np.inf: 0}})\n",
    "\n",
    "    data['IV'] = data['WoE'] * (data['Distribution Good'] - data['Distribution Bad'])\n",
    "\n",
    "    data = data.sort_values(by=['Variable', 'Value'], ascending=[True, True])\n",
    "    data.index = range(len(data.index))\n",
    "\n",
    "    iv = data['IV'].sum()\n",
    "\n",
    "    return iv, data"
   ]
  },
  {
   "cell_type": "code",
   "execution_count": null,
   "metadata": {},
   "outputs": [],
   "source": []
  }
 ],
 "metadata": {
  "kernelspec": {
   "display_name": "Python 3",
   "language": "python",
   "name": "python3"
  },
  "language_info": {
   "codemirror_mode": {
    "name": "ipython",
    "version": 3
   },
   "file_extension": ".py",
   "mimetype": "text/x-python",
   "name": "python",
   "nbconvert_exporter": "python",
   "pygments_lexer": "ipython3",
   "version": "3.8.5"
  }
 },
 "nbformat": 4,
 "nbformat_minor": 4
}
