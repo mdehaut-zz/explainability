{
 "cells": [
  {
   "cell_type": "markdown",
   "metadata": {},
   "source": [
    "# Statistical Significance of Information Value\n",
    "\n",
    "While Information Value and Weight of Evidence may be a totally new concepts for many people (especially collegues from other departments, not statisticians), statistical significance is much more familiar term. During presentation of analysis you might be asked if the obtained results are statistically significant. IV & WOE technique doesn't give explicit answer to this question (although it gives some intuition which results are relevant).\n",
    "\n",
    "This analysis shows how differences in distribution of 'goods' and 'bads' are measured by two methods: IV & WOE and p-value & effect size.\n",
    "\n",
    "- Get to know how to use Information Value module, check [**IV and WOE in Python**](https://github.com/klaudia-nazarko/iv-and-woe-python/blob/master/iv_and_woe_in_python.ipynb)"
   ]
  },
  {
   "cell_type": "markdown",
   "metadata": {},
   "source": [
    "## P-value and effect size\n",
    "\n",
    "In order to measure p-value and effect size in this analysis it was used:\n",
    "* chi-square test of independence of variables\n",
    "* cramers' v effect size\n",
    "\n",
    ">Pearson's chi-squared test (χ2) is a statistical test applied to sets of categorical data to evaluate how likely it is that any observed difference between the sets arose by chance. A test of independence assesses whether observations consisting of measures on two variables, expressed in a contingency table, are independent of each other (e.g. polling responses from people of different nationalities to see if one's nationality is related to the response).\n",
    "\n",
    "Chi-square says that there is a significant relationship between variables, but it does not say just how strong and important this is.\n",
    "\n",
    ">Cramér's V is a measure of association between two nominal variables. Cramer's V is a post-test to give this additional information. It varies between 0 and 1: close to 0 it shows little association between variables; close to 1, it indicates a strong association."
   ]
  },
  {
   "cell_type": "code",
   "execution_count": 1,
   "metadata": {},
   "outputs": [],
   "source": [
    "import pandas as pd\n",
    "from pandas.api.types import is_numeric_dtype\n",
    "\n",
    "from Features import *\n",
    "from AttributeRelevance import *"
   ]
  },
  {
   "cell_type": "code",
   "execution_count": 2,
   "metadata": {},
   "outputs": [],
   "source": [
    "pd.options.display.float_format = '{:,.2f}'.format\n",
    "pd.set_option('display.max_columns', None)\n",
    "sns.set_style(\"whitegrid\")"
   ]
  },
  {
   "cell_type": "code",
   "execution_count": 4,
   "metadata": {},
   "outputs": [],
   "source": [
    "df = pd.read_csv('datagen.csv', na_values=[' '])"
   ]
  },
  {
   "cell_type": "code",
   "execution_count": 5,
   "metadata": {},
   "outputs": [],
   "source": [
    "df['label'] = df['app_status'].map({'valid': 0, 'invalid': 1})\n",
    "df['browserType'] = df['browser'].map({0: 'edge', 1: 'chrome', 2: 'safari', 3: 'firefox', 4: 'opera', 5: 'vivaldi' })\n",
    "\n",
    "df.drop(['app_id', 'app_status', 'browser', 'score'], axis=1, inplace=True)"
   ]
  },
  {
   "cell_type": "code",
   "execution_count": 6,
   "metadata": {},
   "outputs": [
    {
     "data": {
      "text/html": [
       "<div>\n",
       "<style scoped>\n",
       "    .dataframe tbody tr th:only-of-type {\n",
       "        vertical-align: middle;\n",
       "    }\n",
       "\n",
       "    .dataframe tbody tr th {\n",
       "        vertical-align: top;\n",
       "    }\n",
       "\n",
       "    .dataframe thead th {\n",
       "        text-align: right;\n",
       "    }\n",
       "</style>\n",
       "<table border=\"1\" class=\"dataframe\">\n",
       "  <thead>\n",
       "    <tr style=\"text-align: right;\">\n",
       "      <th></th>\n",
       "      <th>ipAddress</th>\n",
       "      <th>ipHop</th>\n",
       "      <th>timeSubmitSec</th>\n",
       "      <th>package</th>\n",
       "      <th>inList</th>\n",
       "      <th>inCust</th>\n",
       "      <th>weekDay</th>\n",
       "      <th>appHour</th>\n",
       "      <th>label</th>\n",
       "      <th>browserType</th>\n",
       "    </tr>\n",
       "  </thead>\n",
       "  <tbody>\n",
       "    <tr>\n",
       "      <th>5749</th>\n",
       "      <td>9,230.00</td>\n",
       "      <td>1.00</td>\n",
       "      <td>21.00</td>\n",
       "      <td>12.00</td>\n",
       "      <td>0.00</td>\n",
       "      <td>0</td>\n",
       "      <td>3.00</td>\n",
       "      <td>10.00</td>\n",
       "      <td>0</td>\n",
       "      <td>chrome</td>\n",
       "    </tr>\n",
       "    <tr>\n",
       "      <th>1617</th>\n",
       "      <td>9,230.00</td>\n",
       "      <td>0.00</td>\n",
       "      <td>20.00</td>\n",
       "      <td>6.00</td>\n",
       "      <td>0.00</td>\n",
       "      <td>1</td>\n",
       "      <td>2.00</td>\n",
       "      <td>6.00</td>\n",
       "      <td>0</td>\n",
       "      <td>firefox</td>\n",
       "    </tr>\n",
       "    <tr>\n",
       "      <th>1466</th>\n",
       "      <td>9,230.00</td>\n",
       "      <td>1.00</td>\n",
       "      <td>21.00</td>\n",
       "      <td>6.00</td>\n",
       "      <td>4.00</td>\n",
       "      <td>0</td>\n",
       "      <td>5.00</td>\n",
       "      <td>10.00</td>\n",
       "      <td>0</td>\n",
       "      <td>chrome</td>\n",
       "    </tr>\n",
       "    <tr>\n",
       "      <th>4892</th>\n",
       "      <td>6,153.00</td>\n",
       "      <td>1.00</td>\n",
       "      <td>24.00</td>\n",
       "      <td>0.00</td>\n",
       "      <td>0.00</td>\n",
       "      <td>0</td>\n",
       "      <td>6.00</td>\n",
       "      <td>15.00</td>\n",
       "      <td>0</td>\n",
       "      <td>edge</td>\n",
       "    </tr>\n",
       "    <tr>\n",
       "      <th>9952</th>\n",
       "      <td>17,272.00</td>\n",
       "      <td>3.00</td>\n",
       "      <td>4.00</td>\n",
       "      <td>6.00</td>\n",
       "      <td>3.00</td>\n",
       "      <td>0</td>\n",
       "      <td>6.00</td>\n",
       "      <td>21.00</td>\n",
       "      <td>1</td>\n",
       "      <td>opera</td>\n",
       "    </tr>\n",
       "  </tbody>\n",
       "</table>\n",
       "</div>"
      ],
      "text/plain": [
       "      ipAddress  ipHop  timeSubmitSec  package  inList  inCust  weekDay  \\\n",
       "5749   9,230.00   1.00          21.00    12.00    0.00       0     3.00   \n",
       "1617   9,230.00   0.00          20.00     6.00    0.00       1     2.00   \n",
       "1466   9,230.00   1.00          21.00     6.00    4.00       0     5.00   \n",
       "4892   6,153.00   1.00          24.00     0.00    0.00       0     6.00   \n",
       "9952  17,272.00   3.00           4.00     6.00    3.00       0     6.00   \n",
       "\n",
       "      appHour  label browserType  \n",
       "5749    10.00      0      chrome  \n",
       "1617     6.00      0     firefox  \n",
       "1466    10.00      0      chrome  \n",
       "4892    15.00      0        edge  \n",
       "9952    21.00      1       opera  "
      ]
     },
     "execution_count": 6,
     "metadata": {},
     "output_type": "execute_result"
    }
   ],
   "source": [
    "df.sample(5)"
   ]
  },
  {
   "cell_type": "code",
   "execution_count": 7,
   "metadata": {},
   "outputs": [],
   "source": [
    "feats_dict = {}\n",
    "\n",
    "for col in [c for c in df.columns if c != 'label']:\n",
    "    if is_numeric_dtype(df[col]):\n",
    "        feats_dict[col] = ContinuousFeature(df, col)\n",
    "    else:\n",
    "        feats_dict[col] = CategoricalFeature(df, col)\n",
    "\n",
    "feats = list(feats_dict.values())"
   ]
  },
  {
   "cell_type": "code",
   "execution_count": 8,
   "metadata": {},
   "outputs": [],
   "source": [
    "iv = IV()\n",
    "s = StatsSignificance()\n",
    "\n",
    "ar = AttributeRelevance()"
   ]
  },
  {
   "cell_type": "markdown",
   "metadata": {},
   "source": [
    "## Information value vs statistical significance\n",
    "\n",
    "Analysis of features with both IV & WOE and Chi-square test & Cramers'V shows some interesting relations between results of those two methods.\n",
    "\n",
    "**P-value vs information value**\n",
    "\n",
    "P-value for almost all featues is very, very small (less than 0.01 which gives us 99% confidence level). Only the differences of distribution for two features (with IV = 0) aren't statistically significant. It leads to the conclusion that for features that were recognized as at least medium predictor (the most interesting from analysis perspective) the differences in distribution of 'goods' and 'bads' is statistically significant. However, it's good to note that low p-value doesn't give information about the strength of relationship.\n",
    "\n",
    "**Information value vs Cramers' V**\n",
    "\n",
    "There is strong, almost linear, relationship between information value and effect size. Features with high information value have high effect size as well. Correlation coefficient for these values is: 0.94 (Pearson) and 0.98 (Spearman).\n",
    "\n",
    "**Interpretation of information value and effect size**\n",
    "\n",
    "Although the interpretation of information value and effect size differs a bit, the rules are very similar: values closer to 0 imply very weak (or lack of) relationship, while higher values suggest stronger relation."
   ]
  },
  {
   "cell_type": "code",
   "execution_count": 9,
   "metadata": {},
   "outputs": [
    {
     "name": "stderr",
     "output_type": "stream",
     "text": [
      "D:\\Anaconda3\\lib\\site-packages\\pandas\\core\\series.py:726: RuntimeWarning: divide by zero encountered in log\n",
      "  result = getattr(ufunc, method)(*inputs, **kwargs)\n",
      "D:\\Anaconda3\\lib\\site-packages\\pandas\\core\\series.py:726: RuntimeWarning: divide by zero encountered in log\n",
      "  result = getattr(ufunc, method)(*inputs, **kwargs)\n",
      "D:\\Anaconda3\\lib\\site-packages\\pandas\\core\\series.py:726: RuntimeWarning: divide by zero encountered in log\n",
      "  result = getattr(ufunc, method)(*inputs, **kwargs)\n"
     ]
    },
    {
     "data": {
      "text/html": [
       "<div>\n",
       "<style scoped>\n",
       "    .dataframe tbody tr th:only-of-type {\n",
       "        vertical-align: middle;\n",
       "    }\n",
       "\n",
       "    .dataframe tbody tr th {\n",
       "        vertical-align: top;\n",
       "    }\n",
       "\n",
       "    .dataframe thead th {\n",
       "        text-align: right;\n",
       "    }\n",
       "</style>\n",
       "<table border=\"1\" class=\"dataframe\">\n",
       "  <thead>\n",
       "    <tr style=\"text-align: right;\">\n",
       "      <th></th>\n",
       "      <th>iv</th>\n",
       "      <th>p-value</th>\n",
       "      <th>effect_size</th>\n",
       "      <th>iv_interpretation</th>\n",
       "      <th>es_interpretation</th>\n",
       "    </tr>\n",
       "  </thead>\n",
       "  <tbody>\n",
       "    <tr>\n",
       "      <th>inList</th>\n",
       "      <td>4.33</td>\n",
       "      <td>0.00</td>\n",
       "      <td>0.82</td>\n",
       "      <td>suspicious</td>\n",
       "      <td>very strong</td>\n",
       "    </tr>\n",
       "    <tr>\n",
       "      <th>browserType</th>\n",
       "      <td>3.58</td>\n",
       "      <td>0.00</td>\n",
       "      <td>0.68</td>\n",
       "      <td>suspicious</td>\n",
       "      <td>very strong</td>\n",
       "    </tr>\n",
       "    <tr>\n",
       "      <th>package</th>\n",
       "      <td>3.52</td>\n",
       "      <td>0.00</td>\n",
       "      <td>0.62</td>\n",
       "      <td>suspicious</td>\n",
       "      <td>very strong</td>\n",
       "    </tr>\n",
       "    <tr>\n",
       "      <th>appHour</th>\n",
       "      <td>1.32</td>\n",
       "      <td>0.00</td>\n",
       "      <td>0.43</td>\n",
       "      <td>suspicious</td>\n",
       "      <td>strong</td>\n",
       "    </tr>\n",
       "    <tr>\n",
       "      <th>ipAddress</th>\n",
       "      <td>0.37</td>\n",
       "      <td>0.00</td>\n",
       "      <td>0.41</td>\n",
       "      <td>strong</td>\n",
       "      <td>strong</td>\n",
       "    </tr>\n",
       "    <tr>\n",
       "      <th>timeSubmitSec</th>\n",
       "      <td>0.36</td>\n",
       "      <td>0.00</td>\n",
       "      <td>0.41</td>\n",
       "      <td>strong</td>\n",
       "      <td>strong</td>\n",
       "    </tr>\n",
       "    <tr>\n",
       "      <th>weekDay</th>\n",
       "      <td>0.21</td>\n",
       "      <td>0.00</td>\n",
       "      <td>0.16</td>\n",
       "      <td>medium</td>\n",
       "      <td>weak</td>\n",
       "    </tr>\n",
       "    <tr>\n",
       "      <th>ipHop</th>\n",
       "      <td>0.00</td>\n",
       "      <td>1.00</td>\n",
       "      <td>0.00</td>\n",
       "      <td>useless</td>\n",
       "      <td>useless</td>\n",
       "    </tr>\n",
       "    <tr>\n",
       "      <th>inCust</th>\n",
       "      <td>0.00</td>\n",
       "      <td>1.00</td>\n",
       "      <td>0.00</td>\n",
       "      <td>useless</td>\n",
       "      <td>useless</td>\n",
       "    </tr>\n",
       "  </tbody>\n",
       "</table>\n",
       "</div>"
      ],
      "text/plain": [
       "                iv  p-value  effect_size iv_interpretation es_interpretation\n",
       "inList        4.33     0.00         0.82        suspicious       very strong\n",
       "browserType   3.58     0.00         0.68        suspicious       very strong\n",
       "package       3.52     0.00         0.62        suspicious       very strong\n",
       "appHour       1.32     0.00         0.43        suspicious            strong\n",
       "ipAddress     0.37     0.00         0.41            strong            strong\n",
       "timeSubmitSec 0.36     0.00         0.41            strong            strong\n",
       "weekDay       0.21     0.00         0.16            medium              weak\n",
       "ipHop         0.00     1.00         0.00           useless           useless\n",
       "inCust        0.00     1.00         0.00           useless           useless"
      ]
     },
     "metadata": {},
     "output_type": "display_data"
    }
   ],
   "source": [
    "df_analysis = ar.analyze(feats, iv, s, interpretation=True)\n",
    "display(df_analysis)"
   ]
  },
  {
   "cell_type": "code",
   "execution_count": 10,
   "metadata": {},
   "outputs": [
    {
     "data": {
      "image/png": "[encoded data removed]",
      "text/plain": [
       "<Figure size 720x432 with 1 Axes>"
      ]
     },
     "metadata": {},
     "output_type": "display_data"
    },
    {
     "name": "stdout",
     "output_type": "stream",
     "text": [
      "Pearson correlation: 0.92\n",
      "Spearman correlation: 0.96\n"
     ]
    }
   ],
   "source": [
    "df_analysis_sign = df_analysis[df_analysis['p-value']<0.05]\n",
    "\n",
    "fig, ax = plt.subplots(figsize=(10,6))\n",
    "sns.regplot(x='iv', y='effect_size', data=df_analysis_sign, color='#455872')\n",
    "ax.set_title('Information value vs effect size')\n",
    "plt.show()\n",
    "\n",
    "print('Pearson correlation: %0.2f' % df_analysis_sign['iv'].corr(df_analysis_sign['effect_size']))\n",
    "print('Spearman correlation: %0.2f' % df_analysis_sign['iv'].corr(df_analysis_sign['effect_size'], method='spearman'))"
   ]
  },
  {
   "cell_type": "markdown",
   "metadata": {},
   "source": [
    "## Weight of Evidence vs share of 'goods' in total\n",
    "\n",
    "WOE is one of ways to show the proportion of 'good' observations in a group (bin). Another way of doing it is to calculate a share of 'goods' in total. It's not a surprise that results obtained in two ways are very similar. The relation remains the same, it's just presented on a different scale."
   ]
  },
  {
   "cell_type": "code",
   "execution_count": 12,
   "metadata": {
    "scrolled": true
   },
   "outputs": [
    {
     "name": "stderr",
     "output_type": "stream",
     "text": [
      "D:\\Anaconda3\\lib\\site-packages\\pandas\\core\\series.py:726: RuntimeWarning: divide by zero encountered in log\n",
      "  result = getattr(ufunc, method)(*inputs, **kwargs)\n"
     ]
    },
    {
     "data": {
      "image/png": "[encoded data removed]",
      "text/plain": [
       "<Figure size 720x432 with 1 Axes>"
      ]
     },
     "metadata": {},
     "output_type": "display_data"
    }
   ],
   "source": [
    "iv.draw_woe(feats_dict['browserType'])"
   ]
  },
  {
   "cell_type": "code",
   "execution_count": 19,
   "metadata": {},
   "outputs": [
    {
     "data": {
      "image/png": "[encoded data removed]",
      "text/plain": [
       "<Figure size 720x432 with 1 Axes>"
      ]
     },
     "metadata": {},
     "output_type": "display_data"
    }
   ],
   "source": [
    "dfAppHour = iv.group_by_feature(feats_dict['appHour'])\n",
    "dfAppHour['total'] = 1\n",
    "dfAppHour['good_share'] = dfAppHour['good'] / dfAppHour['count']\n",
    "\n",
    "fig, ax = plt.subplots(figsize=(10,6))\n",
    "sns.barplot(x='appHour', y='total', data=dfAppHour, color='#a9c6a3')\n",
    "sns.barplot(x='appHour', y='good_share', data=dfAppHour, color='#4a6a7c')\n",
    "ax.set_title(\"Share of 'goods' in total\")\n",
    "plt.show()"
   ]
  },
  {
   "cell_type": "code",
   "execution_count": null,
   "metadata": {},
   "outputs": [],
   "source": []
  }
 ],
 "metadata": {
  "kernelspec": {
   "display_name": "Python 3",
   "language": "python",
   "name": "python3"
  },
  "language_info": {
   "codemirror_mode": {
    "name": "ipython",
    "version": 3
   },
   "file_extension": ".py",
   "mimetype": "text/x-python",
   "name": "python",
   "nbconvert_exporter": "python",
   "pygments_lexer": "ipython3",
   "version": "3.8.5"
  }
 },
 "nbformat": 4,
 "nbformat_minor": 2
}
